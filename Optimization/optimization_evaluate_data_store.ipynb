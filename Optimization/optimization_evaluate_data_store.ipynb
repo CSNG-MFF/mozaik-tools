{
 "cells": [
  {
   "cell_type": "markdown",
   "id": "68bf60c6",
   "metadata": {},
   "source": [
    "Notebook for checking datastores\n",
    "\n",
    "sometimes optimization crashes or gets stuck during evaluating datastores, to check whether it was caused by the weird datastore feel free to use this notebook.\n",
    "\n",
    "It works as follows:\n",
    "- specify the optimization folder\n",
    "- the jupyter notebook will iterate through folders (supposedly each represent a single mozaik simulation)\n",
    "- Each found datastore is evaluated and targets' scores are calculated\n",
    "\n",
    "if no error appears during evaluation of datastore the most probable issue is the memory - it is not enough for the number of jobs that are running in parallel. If the error appears rerun the main optimization script on the nodes with more memory"
   ]
  },
  {
   "cell_type": "code",
   "execution_count": null,
   "id": "eeacdbe1-f720-42af-a45b-3ff0c86a59ee",
   "metadata": {},
   "outputs": [],
   "source": [
    "import os\n",
    "\n",
    "# Change the working directory to the directory where the script is located\n",
    "os.chdir('/home/user/mozaik-tools/Optimization')\n",
    "\n",
    "import psutil\n",
    "import json\n",
    "from importlib import reload\n",
    "from evaluator import define_fitness_calculator\n",
    "from targets import TargetValue\n",
    "\n",
    "\n",
    "import numpy\n",
    "\n",
    "from mozaik.storage.queries import param_filter_query\n",
    "from math import isclose\n",
    "from scipy.spatial.distance import cdist\n",
    "\n",
    "import utils\n",
    "reload(utils)\n",
    "from utils import *\n",
    "\n",
    "process = psutil.Process()"
   ]
  },
  {
   "cell_type": "code",
   "execution_count": null,
   "id": "c310af3d",
   "metadata": {},
   "outputs": [],
   "source": [
    "# Set the paths for the optimization folder and configuration file\n",
    "\n",
    "optimization_folder = '/home/user/mozaik-models/LSV1M/20250805-141042_Optimization'\n",
    "config_optimisation = '/home/user/mozaik-models/LSV1M/param_optim/config_optimisation'\n",
    "\n",
    "absolute_path = True\n"
   ]
  },
  {
   "cell_type": "code",
   "execution_count": 3,
   "id": "587a70c7-5f60-45d2-acc7-789176ded8f7",
   "metadata": {},
   "outputs": [],
   "source": [
    "with open(config_optimisation) as f:\n",
    "    opt_config = json.load(f)\n",
    "fitness_calculator = define_fitness_calculator(opt_config)"
   ]
  },
  {
   "cell_type": "code",
   "execution_count": null,
   "id": "ecc88dac-aae0-4cf5-af0c-18e9142bc128",
   "metadata": {},
   "outputs": [],
   "source": [
    "weird_ds = []\n",
    "\n",
    "for data_store in get_data_stores(optimization_folder, absolute_path=absolute_path):\n",
    "    print()\n",
    "    print(data_store.parameters['root_directory'])\n",
    "    print(f\"Memory usage before: {process.memory_info().rss / 1024**3}Gb\")\n",
    "    try:\n",
    "        scores = fitness_calculator.calculate_scores(data_store)\n",
    "    except IndexError:\n",
    "        print(\"Issue with indexing\")\n",
    "        weird_ds.append(data_store)\n",
    "        scores = {}\n",
    "    print(f\"Memory usage after: {process.memory_info().rss / 1024**3}Gb\")\n",
    "    print(\"Scores: \", scores)"
   ]
  },
  {
   "cell_type": "code",
   "execution_count": null,
   "id": "cc494c99",
   "metadata": {},
   "outputs": [],
   "source": []
  }
 ],
 "metadata": {
  "kernelspec": {
   "display_name": "Python 3 (ipykernel)",
   "language": "python",
   "name": "python3"
  },
  "language_info": {
   "codemirror_mode": {
    "name": "ipython",
    "version": 3
   },
   "file_extension": ".py",
   "mimetype": "text/x-python",
   "name": "python",
   "nbconvert_exporter": "python",
   "pygments_lexer": "ipython3",
   "version": "3.12.3"
  }
 },
 "nbformat": 4,
 "nbformat_minor": 5
}
